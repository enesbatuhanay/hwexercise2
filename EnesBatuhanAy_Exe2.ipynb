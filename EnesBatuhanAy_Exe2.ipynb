{
 "cells": [
  {
   "cell_type": "markdown",
   "id": "64cc5cab",
   "metadata": {},
   "source": [
    "<h1> Exercise 2</h1>\n",
    "<p>Enes Batuhan Ay</p>\n",
    "<p>20160808061</p>\n",
    "<h2>Lists</h2>\n",
    "<h3>Exercise 4.1</h3>\n",
    "<h4>(a)</h4>"
   ]
  },
  {
   "cell_type": "code",
   "execution_count": 11,
   "id": "931272e5",
   "metadata": {},
   "outputs": [
    {
     "name": "stdout",
     "output_type": "stream",
     "text": [
      "['enes', 'ali', 'veli']\n"
     ]
    }
   ],
   "source": [
    "mlist = [\"enes\", \"ali\", \"veli\"]\n",
    "def print1t(list):\n",
    "    print(list)\n",
    "print1(mlist)"
   ]
  },
  {
   "cell_type": "markdown",
   "id": "f061f69a",
   "metadata": {},
   "source": [
    "<h4>(b)</h4>"
   ]
  },
  {
   "cell_type": "code",
   "execution_count": 15,
   "id": "cc580ad2",
   "metadata": {},
   "outputs": [
    {
     "name": "stdout",
     "output_type": "stream",
     "text": [
      "['enes', 'ali', 'veli']\n"
     ]
    }
   ],
   "source": [
    "def print2(list):\n",
    "    list.reverse()\n",
    "    print(list)\n",
    "print2(list1)"
   ]
  },
  {
   "cell_type": "markdown",
   "id": "0a24b172",
   "metadata": {},
   "source": [
    "<h4>(c)</h4>"
   ]
  },
  {
   "cell_type": "code",
   "execution_count": 21,
   "id": "2e7795ca",
   "metadata": {},
   "outputs": [
    {
     "name": "stdout",
     "output_type": "stream",
     "text": [
      "3\n"
     ]
    }
   ],
   "source": [
    "def len(list):\n",
    "    count = 0\n",
    "    for x in list:\n",
    "        count = count + 1;\n",
    "    print(count)\n",
    "len(list1)\n",
    "    "
   ]
  },
  {
   "cell_type": "markdown",
   "id": "ca7a194a",
   "metadata": {},
   "source": [
    "<h3>Exercise 4.2: Copying lists</h3>\n",
    "<h4>(a)</h4>"
   ]
  },
  {
   "cell_type": "code",
   "execution_count": 24,
   "id": "532ead2b",
   "metadata": {},
   "outputs": [],
   "source": [
    "a = [1, 2, 3]"
   ]
  },
  {
   "cell_type": "markdown",
   "id": "3105b19a",
   "metadata": {},
   "source": [
    "<h4>(b)</h4>"
   ]
  },
  {
   "cell_type": "code",
   "execution_count": 25,
   "id": "bc9c4ca3",
   "metadata": {},
   "outputs": [],
   "source": [
    "b = a"
   ]
  },
  {
   "cell_type": "markdown",
   "id": "def16482",
   "metadata": {},
   "source": [
    "<h4>(c)</h4>"
   ]
  },
  {
   "cell_type": "code",
   "execution_count": 28,
   "id": "c44f7de8",
   "metadata": {},
   "outputs": [],
   "source": [
    "b[1] = 3"
   ]
  },
  {
   "cell_type": "markdown",
   "id": "d2accd3d",
   "metadata": {},
   "source": [
    "<h4>(d)</h4>\n",
    "\n",
    "<b>Answer: </b>we change the value of element of list b at index 1 so value changed"
   ]
  },
  {
   "cell_type": "code",
   "execution_count": 29,
   "id": "9436e5c0",
   "metadata": {},
   "outputs": [
    {
     "name": "stdout",
     "output_type": "stream",
     "text": [
      "[1, 3, 3, ]\n",
      "[1, 3, 3, ]\n"
     ]
    }
   ],
   "source": [
    "print(a)\n",
    "print(b)"
   ]
  },
  {
   "cell_type": "markdown",
   "id": "f85de8aa",
   "metadata": {},
   "source": [
    "<h4>(e)</h4>"
   ]
  },
  {
   "cell_type": "code",
   "execution_count": 32,
   "id": "75fbe84a",
   "metadata": {
    "scrolled": true
   },
   "outputs": [],
   "source": [
    "c = a[:]"
   ]
  },
  {
   "cell_type": "markdown",
   "id": "03c6c965",
   "metadata": {},
   "source": [
    "<h4>(f)</h4>"
   ]
  },
  {
   "cell_type": "code",
   "execution_count": 49,
   "id": "3f4657ef",
   "metadata": {},
   "outputs": [],
   "source": [
    "c[2] = \"change\""
   ]
  },
  {
   "cell_type": "markdown",
   "id": "6090dc32",
   "metadata": {},
   "source": [
    "<h4>(g)</h4>\n",
    "\n",
    "<b>Answer: </b>element of list c does not change the list a"
   ]
  },
  {
   "cell_type": "markdown",
   "id": "c6af6735",
   "metadata": {},
   "source": [
    "<h4></h4>\n",
    "<h4></h4>"
   ]
  },
  {
   "cell_type": "code",
   "execution_count": 48,
   "id": "0acea4f6",
   "metadata": {},
   "outputs": [
    {
     "name": "stdout",
     "output_type": "stream",
     "text": [
      "[1, 3, 3]\n",
      "[0, 3, 3]\n"
     ]
    }
   ],
   "source": [
    "def seto(list):\n",
    "    list[0] = 0\n",
    "    return list\n",
    "print(a)\n",
    "seto(a)\n",
    "print(a)"
   ]
  },
  {
   "cell_type": "markdown",
   "id": "ec0d03df",
   "metadata": {},
   "source": [
    "<h3>Exercise 4.3: Lists of lists </h3>\n",
    "\n",
  
    "\n",
    "<h4>a = [ [] ] * 3 </h4>\n",
    "<h4>b = [ [] for _ in xrange(3) ] </h4>\n",
    "\n",
    "<b>Answer: </b> they have no diffrence"
   ]
  },
  {
   "cell_type": "code",
   "execution_count": 56,
   "id": "b1409387",
   "metadata": {},
   "outputs": [
    {
     "name": "stdout",
     "output_type": "stream",
     "text": [
      "[[], [], []]\n",
      "[[], [], []]\n"
     ]
    }
   ],
   "source": [
    "a = [ [] ] * 3\n",
    "print(a)\n",
    "b = [ [] for _ in range(3)]\n",
    "print(b)"
   ]
  },
  {
   "cell_type": "markdown",
   "id": "e7f957ab",
   "metadata": {},
   "source": [
    "<h3>Exercise 4.4: Lists and functions </h3>\n",
    "\n",
    "<b></b>"
   ]
  },
  {
   "cell_type": "code",
   "execution_count": 61,
   "id": "2506d16f",
   "metadata": {},
   "outputs": [
    {
     "name": "stdout",
     "output_type": "stream",
     "text": [
     "['enes', 'ali', 'veli', 'ayşe']\n",
      "['enes', 0, 'veli', 'ayşe']\n"
     ]
    }
   ],
   "source": [
    "test = [ \"enes\", \"ali\", \"veli\", \"ayşe\" ]\n",
    "def exercise(index, list):\n",
    "    list[index] = 0\n",
    "print(test_list)\n",
    "exercise(1, test)\n",
    "print(test)"
   ]
  },
  {
   "cell_type": "markdown",
   "id": "f1ffec5f",
   "metadata": {},
   "source": [
    "<h3>Exercise 4.5: Primes </h3>\n",
    "\n",
    "<b>  </b>"
   ]
  },
  
  
  
  {
   "cell_type": "code",
   "execution_count": 72,
   "id": "2ebaa28b",
   "metadata": {},
   "outputs": [
    {
     "data": {
      "text/plain": [  ]
     },
     "execution_count": 72,
     "metadata": {},
     "output_type": "execute_result"
    }
   ],
   "source": [ ]
  },
  {
   "cell_type": "markdown",
   "id": "53bd108e",
   "metadata": {},
   "source": [
    "<h3>Exercise 4.6: List of comprehensions </h3>\n",
    "\n",
    "<b>Let i, j = 1, , , , , n</b>\n",
    "\n",
    "<b>(a)</b>"
   ]
  },
  {
   "cell_type": "code",
   "execution_count": 41,
   "id": "554c191c",
   "metadata": {},
   "outputs": [
    {
     "name": "stdout",
     "output_type": "stream",
     "text": [
      "[[1, 1], [1, 2], [1, 3], [1, 4], [1, 5], [1, 6], [1, 7], [2, 1], [2, 2], [2, 3], [2, 4], [2, 5], [2, 6], [2, 7], [3, 1], [3, 2], [3, 3], [3, 4], [3, 5], [3, 6], [3, 7], [4, 1], [4, 2], [4, 3], [4, 4], [4, 5], [4, 6], [4, 7], [5, 1], [5, 2], [5, 3], [5, 4], [5, 5], [5, 6], [5, 7], [6, 1], [6, 2], [6, 3], [6, 4], [6, 5], [6, 6], [6, 7], [7, 1], [7, 2], [7, 3], [7, 4], [7, 5], [7, 6], [7, 7]]\n"
     ]
    }
   ],
   "source": [
    "n = 7\n",
    "my_list = [[i,j] for i in range(1,n + 1) for j in range(1, n + 1)]\n",
    "print(my_list)"
   ]
  },
  {
   "cell_type": "markdown",
   "id": "e806a1b9",
   "metadata": {},
   "source": [
    "<b> (b)</b>"
   ]
  },
  {
   "cell_type": "code",
   "execution_count": 42,
   "id": "b4cb49ed",
   "metadata": {},
   "outputs": [
    {
     "name": "stdout",
     "output_type": "stream",
     "text": [
      "[[1, 2], [1, 3], [1, 4], [1, 5], [1, 6], [1, 7], [2, 3], [2, 4], [2, 5], [2, 6], [2, 7], [3, 4], [3, 5], [3, 6], [3, 7], [4, 5], [4, 6], [4, 7], [5, 6], [5, 7], [6, 7]]\n"
     ]
    }
   ],
   "source": [
    "n = 7\n",
    "my_list = [[i,j] for i in range(1,n + 1) for j in range(i + 1, n + 1)]\n",
    "print(my_list)"
   ]
  },
  {
   "cell_type": "markdown",
   "id": "96c0bf14",
   "metadata": {},
   "source": [
    "<b> (c) Generate a list with elements i + j with both i and j prime and i > j. </b>"
   ]
  },
  {
   "cell_type": "code",
   "execution_count": 55,
   "id": "4d04bc93",
   "metadata": {},
   "outputs": [
    {
     "name": "stdout",
     "output_type": "stream",
     "text": [
      "[5, 7, 8, 9, 10, 12]\n"
     ]
    }
   ],
   "source": [
    "n = 7\n",
    "my_list = [i + j for i in range(1,n + 1) for j in range(1, n + 1) if is_prime(i) == True and is_prime(j) and i > j]\n",
    "print(my_list)"
   ]
  },
  {
   "cell_type": "markdown",
   "id": "58058995",
   "metadata": {},
   "source": [
    "<b> (d)</b>"
   ]
  },
  {
   "cell_type": "code",
   "execution_count": 16,
   "id": "93356e48",
   "metadata": {},
   "outputs": [
    {
     "name": "stdout",
     "output_type": "stream",
     "text": [
      "43\n"
     ]
    }
   ],
   "source": [ ]
  },
  {
   "cell_type": "markdown",
   "id": "ad93fe00",
   "metadata": {},
   "source": [
    "<h3>Exercise 4.7: Filter </h3>"
   ]
  },
  {
   "cell_type": "markdown",
   "id": "75cca022",
   "metadata": {},
   "source": [
    "<b></b>"
   ]
  },
  {
   "cell_type": "code",
   "execution_count": null,
   "id": "641ae5d3",
   "metadata": {},
   "outputs": [],
   "source": []
  },
  {
   "cell_type": "markdown",
   "id": "61f9c63b",
   "metadata": {},
   "source": [
    "<h3>Exercise 4.8: Flatten a list of lists </h3>"
   ]
  },
  {
   "cell_type": "markdown",
   "id": "e7733a18",
   "metadata": {},
   "source": [
    "<b></b>\n",
    "\n",
    "<b></b>"
   ]
  },
  {
   "cell_type": "code",
   "execution_count": 96,
   "id": "6cffa2f6",
   "metadata": {},
   "outputs": [
    {
     "data": {
      "text/plain": [
       "[1, 3, 3, 6, 4, 8, 8, 12]"
      ]
     },
     "execution_count": 96,
     "metadata": {},
     "output_type": "execute_result"
    }
   ],
   "source": [
    "list_4_8 = [[1,3], [3,6], [4,8], [8,12]]\n",
    "def flatten(list):\n",
    "    result = [ j for i in list_4_8 for j in i]\n",
    "    return result\n",
    "flatten(list_4_8)"
   ]
  },
  {
   "cell_type": "markdown",
   "id": "7b6e68d9",
   "metadata": {},
   "source": [
    "<h3>Exercise 4.9: Finding the longest word </h3>"
   ]
  },
  {
  
  
  
   "cell_type": "markdown",
   "id": "ee74f00f",
   "metadata": {},
   "source": [
    "<h3>Exercise 4.10: Collatz sequence, part 2 </h3>\n",
    "\n",
    "<b>  </b>\n",
    "    \n",
    "<b> (a)  </b>"
   ]
  },
  {
   "cell_type": "code",
   "execution_count": 334,
   "id": "bd137421",
   "metadata": {},
   "outputs": [
    {
     "name": "stdout",
     "output_type": "stream",
     "text": [
      "[5, 16, 8, 4, 2, 1]\n"
     ]
    }
   ],
   "source": [
    "def collatz_sequence(n):\n",
    "    collatz_list = [n]\n",
    "    while n != 1:\n",
    "        if n % 2 == 0:\n",
    "            n = n / 2\n",
    "            collatz_list.append(int(n))\n",
    "        else:\n",
    "            n = 3 * n + 1\n",
    "            collatz_list.append(int(n))\n",
    "    print(collatz_list)\n",
    "collatz_sequence(5)\n",
    "    "
   ]
  },
  {
   "cell_type": "markdown",
   "id": "d4eff416",
   "metadata": {},
   "source": [
    "<b> (b) </b>"
   ]
  },
  {
   "cell_type": "markdown",
   "id": "b20de39d",
   "metadata": {},
   "source": [
    "<h3>Exercise 4.11: Pivots </h3>\n",
    "\n",
    "<b>  </b>\n",
    "\n",
    "<b> For example, the output of f(3, [6, 4, 1, 7]) should be [1, 3, 6, 4, 7] </b>"
   ]
  },
  {
   "cell_type": "code",
   "execution_count": 10,
   "id": "05ce04b0",
   "metadata": {},
   "outputs": [
    {
     "data": {
      "text/plain": [
       "[1, 3, 4, 6, 9]"
      ]
     },
     "execution_count": 10,
     "metadata": {},
     "output_type": "execute_result"
    }
   ],
   "source": [
    "ys = [6, 4, 1, 9]\n",
    "x = 3\n",
    "\n",
    "def pivots(x, ys):\n",
    "    ys.sort()\n",
    "    for i in ys:\n",
    "        if i > x:\n",
    "            ys.insert(ys.index(i), x)\n",
    "            break\n",
    "    return ys\n",
    "pivots(x, ys)\n",
    "    "
   ]
  },
  {
   "cell_type": "markdown",
   "id": "c053ed6e",
   "metadata": {},
   "source": [
    "<h2>5 Tuples </h2>\n",
    "\n",
    "<h3>Exercise 5.1: Swapping two values </h3>\n",
    "\n",
    "<b>  </b>\n",
    "    \n",
    "<b>The following obviously does not work</b>\n",
    "\n",
    "<b>a = b </b>\n",
    "\n",
    "<b>b = a </b>\n",
    "\n",
    "<b>  </b>\n",
    "\n",
    "<b> t = a </b>\n",
    "\n",
    "<b> a = b </b>\n",
    "\n",
    "<b> b = t </b>\n",
    "\n",
    "<b></b>"
   ]
  },
  {
   "cell_type": "code",
   "execution_count": 12,
   "id": "3c7e0cac",
   "metadata": {},
   "outputs": [
    {
     "name": "stdout",
     "output_type": "stream",
     "text": [
      "('a', 'b')\n",
      "('b', 'a')\n"
     ]
    }
   ],
   "source": [
    "tuple = (\"a\", \"b\")\n",
    "print(tuple)\n",
    "tuple = (\"b\", \"a\")\n",
    "print(tuple)"
   ]
  },
  {
   "cell_type": "markdown",
   "id": "03845b1b",
   "metadata": {},
   "source": [
    "<h3>Exercise 5.2: Zip</h3>\n",
    "\n",
    "<b>  </b>\n",
    "\n",
    "<b>  </b>"
   ]
  },
  {
   "cell_type": "code",
   "execution_count": 1,
   "id": "6837ba55",
   "metadata": {},
   "outputs": [
    {
     "name": "stdout",
     "output_type": "stream",
     "text": [
      "((1, 1), (2, 2), (3, 3), (4, 4))\n"
     ]
    }
   ],
   "source": [
    "a = [1, 2, 3, 4]\n",
    "b = [1, 2, 3, 4]\n",
    "\n",
    "x = zip(a,b)\n",
    "print(tuple(x))"
   ]
  },
  {
   "cell_type": "markdown",
   "id": "afbcf0a1",
   "metadata": {},
   "source": [
    "<h3> Exercise 5.3: Distances </h3>\n",
    "\n",
    "<b> </b>"
   ]
  },
  {
   "cell_type": "code",
   "execution_count": 4,
   "id": "bbe52113",
   "metadata": {},
   "outputs": [
    {
     "name": "stdout",
     "output_type": "stream",
     "text": [
    "enter values of vector of a:2,4,8\n",
      "enter values of vector of b:3,4,5\n",
      "4.6345773867745641\n"
     ]
    }
   ],
   "source": [
    "from math import dist\n",
    "vector_a = input(\"enter values of vector of a:\")\n",
    "vector_b = input(\"enter values of vector of b:\")\n",
    "vector_a = tuple(int(i) for i in vector_a.split(\",\"))\n",
    "vector_b = tuple(int(i) for i in vector_b.split(\",\"))\n",
    "print(dist(vector_a,vector_b))"
   ]
  },
  {
   "cell_type": "markdown",
   "id": "0df8bbfe",
   "metadata": {},
   "source": [
    "<h2>6 Dictionaries </h2>\n",
    "\n",
    "<h3> Exercise 6.1: Printing a dictionary</h3>\n",
    "\n",
    "<b> </b>"
   ]
  },
  {
   "cell_type": "code",
   "execution_count": 5,
   "id": "2b7d4da1",
   "metadata": {},
   "outputs": [
    {
     "name": "stdout",
     "output_type": "stream",
     "text": [
      "{'name': 'enes', 'surname': 'ay', 'weight': 70}\n"
     ]
    }
   ],
   "source": [
    "my_disctionary = {\n",
   "  \"name\": \"enes\",\n",
    "  \"surname\": \"ay\",\n",
    "  \"weight\": 75\n",
    "}\n",
   "def print1(d):\n",
    "    print(testlist)\n",
    "print1(testlist)"
   ]
  },
  {
   "cell_type": "markdown",
   "id": "16c30b62",
   "metadata": {},
   "source": [
    "<h3> Exercise 6.2: Histogram</h3>\n",
    "\n",
    "<b>  </b>\n",
    "\n",
    "<b> </b>"
   ]
  },
  {
   "cell_type": "markdown",
   "id": "46ca7f97",
   "metadata": {},
   "source": [
    "<h3> Exercise 6.3: Get Method</h3>\n",
    "\n",
    "<b> </b>\n",
    "\n",
    "<b> </b>"
   ]
  },
  {
   "cell_type": "code",
   "execution_count": 11,
   "id": "1b829818",
   "metadata": {},
   "outputs": [
    {
     "data": {
      "text/plain": [
       "'veli'"
      ]
     },
     "execution_count": 11,
     "metadata": {},
     "output_type": "execute_result"
    }
   ],
   "source": [
   "list_get_mothod = {\"ad\" : \"veli\", \"soyad\": \"selim\"}\n",
    "list_get_mothod.get(\"ad\")\n",
    "    \n",
    "    "
   ]
  },
  {
   "cell_type": "markdown",
   "id": "b62d9d22",
   "metadata": {},
   "source": [
    "<h3> Exercise 6.6: Reverse look-up</h3>\n",
    "\n",
    "<b></b>"
   ]
  },
  {
   "cell_type": "code",
   "execution_count": 14,
   "id": "f2626888",
   "metadata": {},
   "outputs": [
    {
     "name": "stdout",
     "output_type": "stream",
     "text": [
      "ali\n",
      "3\n"
     ]
    }
   ],
   "source": [
    "def get_key(val):\n",
    "    for key, value in my_dict.items():\n",
    "        if val == value:\n",
    "            return key\n",
    "    return \"key doesn't exist\"\n",
    "\n",
    "my_dict = { \"ali\": 1, \"veli\": 2 , \"enes\": 3}\n",
    "\n",
    "print(get_key(1))\n",
    "print(get_key(3))"
   ]
  },
  {
   "cell_type": "code",
   "execution_count": null,
   "id": "1366f3f0",
   "metadata": {},
   "outputs": [],
   "source": []
  }
 ],
 "metadata": {
  "kernelspec": {
   "display_name": "Python 3 (ipykernel)",
   "language": "python",
   "name": "python3"
  },
  "language_info": {
   "codemirror_mode": {
    "name": "ipython",
    "version": 3
   },
   "file_extension": ".py",
   "mimetype": "text/x-python",
   "name": "python",
   "nbconvert_exporter": "python",
   "pygments_lexer": "ipython3",
   "version": "3.9.7"
  }
 },
 "nbformat": 4,
 "nbformat_minor": 5
}
